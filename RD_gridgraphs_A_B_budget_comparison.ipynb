{
 "cells": [
  {
   "cell_type": "code",
   "execution_count": 1,
   "metadata": {},
   "outputs": [],
   "source": [
    "import networkx as nx\n",
    "\n",
    "import pandas as pd\n",
    "import numpy as np\n",
    "import scipy\n",
    "import random\n",
    "import matplotlib.pyplot as plt\n",
    "from itertools import combinations, groupby\n",
    "#from IPython.core.display import HTML\n",
    "import matplotlib.patches as mpatches\n",
    "import gurobipy as gp\n",
    "import time \n",
    "\n",
    "import helpers\n",
    "import utils\n",
    "\n",
    "start_time=time.time()\n"
   ]
  },
  {
   "cell_type": "code",
   "execution_count": 2,
   "metadata": {},
   "outputs": [
    {
     "name": "stdout",
     "output_type": "stream",
     "text": [
      "Voteshare A: 0.509352421692704\n",
      "Voteshare B: 0.490647578307296\n",
      "-0.033974132981440586\n"
     ]
    }
   ],
   "source": [
    "k = 2 # Number of data points (initial maps) we want in our simulation, for given data in this cell.\n",
    "# These are generated randomly, larger the better.\n",
    "\n",
    "\n",
    "datafile1 = '20_20_10.txt' #for standard maps with lower compactness scores\n",
    "\n",
    "\n",
    "Egap = 0.20 #the bound we want to impose for fairenss\n",
    "nodesx = 20 # for grid graphs: used in visualization as well\n",
    "nodesy = 20 # for grid graphs\n",
    "NumberOfUnits = nodesx*nodesy #total number of units\n",
    "NumberOfDistricts = 10 #Number of districts we want\n",
    "\n",
    "minbound, maxbound = 350, 400 #Population bounds for each unit, sampled uniformly\n",
    "distmin, distmax = 0.1, 0.9 #Vote share fraction bounds for each unit, for party A, sampled uniformly\n",
    "maxiter = 100 #Number of maps we want to have in our pool, used by the algorithm\n",
    "\n",
    "budgetB = 400 #Party B's budget, spent uniformly \n",
    "#Can also be made to match with A's. This edit can be made in the next cell.\n",
    "\n",
    "budgetrange = [100,300,500,700,900]#,  300, 500] #A's budget range\n",
    "N, G = utils.gridgraph(nodesx,nodesy)\n",
    "\n",
    "alphaset = [0.5]#, 0.7, 0.9] #Alpha: the baseline voter turnout factor. \n",
    "\n",
    "V, P0, Q0 = utils.RandomPopulation(NumberOfUnits, minbound, maxbound,distmin, distmax,  majority = True)\n",
    "\n",
    "votesAoriginal = np.multiply(V,P0)\n",
    "votesBoriginal = np.multiply(V,Q0)\n",
    "\n",
    "\n",
    "#print(votesAoriginal, votesBoriginal)\n",
    "VSA = sum(votesAoriginal)/(sum(votesAoriginal)+sum(votesBoriginal))\n",
    "print('Voteshare A:', VSA)\n",
    "print('Voteshare B:', 1-VSA)\n",
    "\n",
    "print(utils.moranI(G, P0))"
   ]
  },
  {
   "cell_type": "code",
   "execution_count": 3,
   "metadata": {},
   "outputs": [
    {
     "name": "stdout",
     "output_type": "stream",
     "text": [
      "0.09347485800338803 initial map egap\n",
      "2  maps generated for alpha =  0.5\n",
      "Set parameter Username\n",
      "Academic license - for non-commercial use only - expires 2023-08-11\n",
      "[[2, 1], [3, 3], [3, 4], [4, 4], [5, 5]]\n"
     ]
    }
   ],
   "source": [
    "datafile = datafile1\n",
    "df0 = pd.read_csv(datafile, index_col=False, header=None)\n",
    "\n",
    "\n",
    "d = {i:[] for i in alphaset}\n",
    "\n",
    "for alpha in alphaset:\n",
    "    boxlistSeats1 = []\n",
    "    boxlistInfeasibles1=[]\n",
    "    votesA = alpha*votesAoriginal\n",
    "    votesB = alpha*votesBoriginal\n",
    "\n",
    "    TotalVotes = sum(votesA)+ sum(votesB)\n",
    "    rows, cols = df0.shape\n",
    "    \n",
    "    Numrange = [] #10396\n",
    "    \n",
    "    while len(Numrange)<k:\n",
    "      initmapnumber = random.randint(0,rows)\n",
    "      v1 = df0.iloc[initmapnumber].to_numpy()\n",
    "      W = 0 \n",
    "      \n",
    "      for i in range(0,NumberOfDistricts):\n",
    "        ind = np.where(v1==i)\n",
    "        if np.sum(votesA[ind]) > np.sum(votesB[ind]):\n",
    "\n",
    "          W = W+ (3*np.sum(votesB[ind])-np.sum(votesA[ind]))/2\n",
    "        else:\n",
    "          W = W + (np.sum(votesB[ind])-3*np.sum(votesA[ind]))/2\n",
    "        \n",
    "\n",
    "\n",
    "      EgapCurrent=(W/TotalVotes)\n",
    "      if abs(EgapCurrent) < Egap:\n",
    "        Numrange.append(initmapnumber)\n",
    "        \n",
    "    print(EgapCurrent, 'initial map egap')\n",
    "    i=0\n",
    "    print(k, ' maps generated for alpha = ', alpha)\n",
    "\n",
    "    \n",
    "    for budgetA in budgetrange:\n",
    "\n",
    "      #budgetB=budgetA\n",
    "      difflist=[]\n",
    "      InfList = []\n",
    "      Targetrange =[]\n",
    "      for num in Numrange:\n",
    "        initmapnumber = num \n",
    "        EgapTotal, initmap, dfupdated, targetmap, Max, MaxNOstrat, MaxStrat, rd1wins, rd2wins, EgapRd2, InfNumber, YesNumber, targetmapnumber, NewvotesA, NewvotesB = helpers.Doeverything(datafile, initmapnumber, V, votesA, votesB, Egap, budgetA, budgetB, alpha, maxiter, NumberOfDistricts)\n",
    "        difflist.append(MaxStrat-MaxNOstrat)\n",
    "        #difflist.append(MaxStrat)\n",
    "        InfList.append(InfNumber)\n",
    "        Targetrange.append(targetmapnumber)\n",
    "      i=i+1\n",
    "      boxlistSeats1.append(difflist)\n",
    "      boxlistInfeasibles1.append(InfList)\n",
    "    d[alpha] = boxlistSeats1\n",
    "    print(boxlistSeats1)"
   ]
  },
  {
   "cell_type": "code",
   "execution_count": 4,
   "metadata": {},
   "outputs": [],
   "source": [
    "dfoo = pd.DataFrame(d[alphaset[0]])\n",
    "dfoo.to_excel(\"outputA.xlsx\",\n",
    "         sheet_name='Alpha = %s' % alphaset[0]) \n",
    "for alpha in alphaset:\n",
    "  if alpha != alphaset[0]:\n",
    "    dfoo = pd.DataFrame(d[alpha])\n",
    "    with pd.ExcelWriter(\"outputA.xlsx\", engine=\"openpyxl\", mode=\"a\") as writer: \n",
    "        dfoo.to_excel(writer, sheet_name='Alpha = %s' % alpha)\n",
    "VotesOriginal = [votesAoriginal, votesBoriginal]\n",
    "maps = [Numrange, Targetrange]\n",
    "dfoo =  pd.DataFrame(VotesOriginal)\n",
    "with pd.ExcelWriter(\"outputA.xlsx\", engine=\"openpyxl\", mode=\"a\") as writer: \n",
    "        dfoo.to_excel(writer, sheet_name='VoteShares')\n",
    "dfoo =  pd.DataFrame(maps)\n",
    "with pd.ExcelWriter(\"outputA.xlsx\", engine=\"openpyxl\", mode=\"a\") as writer: \n",
    "        dfoo.to_excel(writer, sheet_name='MapsInfo_ %s' % alpha)\n"
   ]
  },
  {
   "cell_type": "code",
   "execution_count": 5,
   "metadata": {},
   "outputs": [
    {
     "name": "stdout",
     "output_type": "stream",
     "text": [
      "2  maps generated for alpha =  0.5\n",
      "[[3, 3], [3, 4], [2, 3], [3, 3], [3, 4]]\n"
     ]
    }
   ],
   "source": [
    "datafile = datafile1\n",
    "\n",
    "df0 = pd.read_csv(datafile, index_col=False, header=None)\n",
    "budgetA = 400 #Party B's budget, spent uniformly \n",
    "#Can also be made to match with A's. This edit can be made in the next cell.\n",
    "\n",
    "budgetrange = [100,300,500,700,900]#,  300, 500] #A's budget range\n",
    "\n",
    "d2 = {i:[] for i in alphaset}\n",
    "\n",
    "for alpha in alphaset:\n",
    "\n",
    "    boxlistSeats2 = []\n",
    "    boxlistInfeasibles2=[]\n",
    "    votesA = alpha*votesAoriginal\n",
    "    votesB = alpha*votesBoriginal\n",
    "\n",
    "    TotalVotes = sum(votesA)+ sum(votesB)\n",
    "    rows, cols = df0.shape\n",
    "\n",
    "    Numrange2 = []\n",
    "    while len(Numrange2)<k:\n",
    "      initmapnumber = random.randint(0,rows)\n",
    "      v1 = df0.iloc[initmapnumber].to_numpy()\n",
    "      W = 0 \n",
    "      for i in range(0,NumberOfDistricts):\n",
    "        ind = np.where(v1==i)\n",
    "        if np.sum(votesA[ind])> np.sum(votesB[ind]):\n",
    "\n",
    "          W = W+ (3*np.sum(votesB[ind])-np.sum(votesA[ind]))/2\n",
    "        else:\n",
    "          W = W + (np.sum(votesB[ind])-3*np.sum(votesA[ind]))/2\n",
    "\n",
    "      EgapCurrent=(W/TotalVotes)\n",
    "      if abs(EgapCurrent) < Egap:\n",
    "        Numrange2.append(initmapnumber)\n",
    "\n",
    "    i=0\n",
    "    print(k, ' maps generated for alpha = ', alpha)\n",
    "\n",
    "    \n",
    "    for budgetB in budgetrange:\n",
    "      #budgetB=budgetA\n",
    "      difflist=[]\n",
    "      InfList = []\n",
    "      Targetrange2 = []\n",
    "      for num in Numrange2: \n",
    "        initmapnumber = num\n",
    "        EgapTotal, initmap, dfupdated, targetmap, Max, MaxNOstrat, MaxStrat, rd1wins, rd2wins, EgapRd2, InfNumber, YesNumber, targetmapnumber, NewvotesA, NewvotesB = helpers.Doeverything(datafile, initmapnumber, V, votesA, votesB, Egap, budgetA, budgetB, alpha, maxiter, NumberOfDistricts)\n",
    "        difflist.append(MaxStrat-MaxNOstrat)\n",
    "        #difflist.append(MaxStrat)\n",
    "        InfList.append(InfNumber)\n",
    "        Targetrange2.append(targetmapnumber)\n",
    "      i=i+1\n",
    "      boxlistSeats2.append(difflist)\n",
    "      boxlistInfeasibles2.append(InfList)\n",
    "    d2[alpha] = boxlistSeats2\n",
    "    print(boxlistSeats2)"
   ]
  },
  {
   "cell_type": "code",
   "execution_count": 6,
   "metadata": {},
   "outputs": [],
   "source": [
    "dfoo = pd.DataFrame(d2[alphaset[0]])\n",
    "dfoo.to_excel(\"outputB.xlsx\",\n",
    "             sheet_name='Sheet_name_%s' % alphaset[0]) \n",
    "for alpha in alphaset:\n",
    "    if alpha != alphaset[0]:\n",
    "        dfoo = pd.DataFrame(d2[alpha])\n",
    "        with pd.ExcelWriter(\"outputB.xlsx\", engine=\"openpyxl\", mode=\"a\") as writer: \n",
    "            dfoo.to_excel(writer, sheet_name='Sheet_name_%s' % alpha)\n",
    "VotesOriginal = [votesAoriginal, votesBoriginal, V]\n",
    "dfoo = pd.DataFrame(VotesOriginal)\n",
    "with pd.ExcelWriter(\"outputB.xlsx\", engine=\"openpyxl\", mode=\"a\") as writer: \n",
    "        dfoo.to_excel(writer, sheet_name='VoteShares')\n",
    "maps = [Numrange2, Targetrange2]\n",
    "dfoo =  pd.DataFrame(maps)\n",
    "with pd.ExcelWriter(\"outputB.xlsx\", engine=\"openpyxl\", mode=\"a\") as writer: \n",
    "        dfoo.to_excel(writer, sheet_name='MapsInfo_ %s' % alpha)\n"
   ]
  },
  {
   "cell_type": "code",
   "execution_count": 7,
   "metadata": {},
   "outputs": [
    {
     "name": "stdout",
     "output_type": "stream",
     "text": [
      "Total_time =  15.32720398902893  seconds\n"
     ]
    }
   ],
   "source": [
    "end_time = time.time()\n",
    "print(\"Total_time = \", end_time-start_time, \" seconds\")"
   ]
  }
 ],
 "metadata": {
  "kernelspec": {
   "display_name": "Python 3",
   "language": "python",
   "name": "python3"
  },
  "language_info": {
   "codemirror_mode": {
    "name": "ipython",
    "version": 3
   },
   "file_extension": ".py",
   "mimetype": "text/x-python",
   "name": "python",
   "nbconvert_exporter": "python",
   "pygments_lexer": "ipython3",
   "version": "3.8.5"
  }
 },
 "nbformat": 4,
 "nbformat_minor": 4
}
