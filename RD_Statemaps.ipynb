{
 "cells": [
  {
   "cell_type": "markdown",
   "metadata": {},
   "source": [
    "# VoteMandering project notebook: State maps"
   ]
  },
  {
   "cell_type": "markdown",
   "metadata": {},
   "source": [
    "This notebook implements our votemandering algorithm from our paper to find the optimal resource allocation and a target map that achieve the highest number of seats in two rounds, combined. It can be used to run large randomly generated samples with same specifications, for the purpose of reporting results with more confidence.\n",
    "\n",
    "We use the process of Recombination to form a list of district maps within which we operate. \n",
    "We have generated the data files already, using the gerrychain package. We use this pool of maps and find our target map as the best amongst those.\n",
    "\n",
    "We first get a list of potential target maps, then arrange those in decreasing order of\n",
    "round 2 wins.\n",
    "We then run our algorithm step by updating one target map entry at a time until we reach our \n",
    "optimal solution.\n",
    "\n",
    "Inputs: (look at the input cell)\n",
    "1. data files containing lists that represent map assignments (a large pool of maps).\n",
    "2. budgets for both the parties\n",
    "3. voter data (can be generated randomly within the code, given specifications)\n",
    "4. a fairness metric bound\n",
    "5. k: number of times we want to run instances of votemandering algorithm (number of samples)(instances are generated randomly given above inputs)\n",
    "\n",
    "Output:\n",
    "For each sample, the following can also be obtained through printing. (Outputs of running one instance of the votemandering algorithm)\n",
    "1. Optimal target map specifications\n",
    "2. optimal budget allocation \n",
    "3. Round 1 and round 2 results\n",
    "\n",
    "This notebook can be used to compare the effects of compactness factor: two datafiles should be submitted, named datafile1 and datafile2 in the input cell.\n",
    "We can also play with the budget range, alpha and the number of samples.\n",
    "Outputs excel sheets showing total additional seats won for k samples, given all inputs, datafiles.\n",
    "\n",
    "\n",
    "We use this code for state maps and a similar one is available for grid graphs."
   ]
  },
  {
   "cell_type": "markdown",
   "metadata": {
    "id": "nC1DaAamze-I"
   },
   "source": [
    "# Installation and data generation\n",
    "\n",
    "###   1. Optimization packages\n",
    "###   2. Support codes used for data generation and some analysis"
   ]
  },
  {
   "cell_type": "code",
   "execution_count": 14,
   "metadata": {
    "colab": {
     "base_uri": "https://localhost:8080/"
    },
    "id": "gh0OiUSDOrsj",
    "outputId": "022a0bd2-78b9-4fb5-c734-ef1aa3e1a104"
   },
   "outputs": [],
   "source": [
    "import networkx as nx\n",
    "\n",
    "import pandas as pd\n",
    "import numpy as np\n",
    "import scipy\n",
    "import random\n",
    "import matplotlib.pyplot as plt\n",
    "from itertools import combinations, groupby\n",
    "#from IPython.core.display import HTML\n",
    "import matplotlib.patches as mpatches\n",
    "import gurobipy as gp\n",
    "from gurobipy import GRB\n",
    "import time \n",
    "\n",
    "start_time=time.time()\n"
   ]
  },
  {
   "cell_type": "code",
   "execution_count": 15,
   "metadata": {
    "id": "QeOVvi3LzXQG"
   },
   "outputs": [],
   "source": [
    "\n",
    "\n",
    "# Function that creates random populations V and vote shares P, Q\n",
    "# if majority = True, P always corresponds to the majority party\n",
    "def RandomPopulation(NumberOfUnits, minbound, maxbound, distmin, distmax, majority = True):\n",
    "    if maxbound > minbound: #defining total voter population using V\n",
    "      V = np.random.randint(minbound, maxbound, size=NumberOfUnits)\n",
    "    else :\n",
    "      V = np.repeat(maxbound, NumberOfUnits)\n",
    "    #P0 = np.random.rand(NumberOfUnits) \n",
    "    P0 = np.random.uniform(distmin, distmax, NumberOfUnits) #uniformly generate vote shares\n",
    "    #P0 = np.random.choice([0.4,0.6], size=NumberOfUnits)\n",
    "    Q0 = 1-P0 #minority party share\n",
    "    if majority == True:\n",
    "      if np.sum(np.multiply(V,Q0))> np.sum(np.multiply(V,P0)):\n",
    "        P0, Q0 = Q0, P0\n",
    "    return V, P0, Q0\n",
    "\n",
    "#this code can be used to create vote shares that follow some definite given pattern\n",
    "def DefinedPopulation(votepattern, NumberOfUnits, minbound, maxbound, alpha, majority = True):\n",
    "    if maxbound > minbound: \n",
    "      V = np.random.randint(minbound, maxbound, size=NumberOfUnits)\n",
    "    else :\n",
    "      V = np.repeat(maxbound, NumberOfUnits)\n",
    "    P0 = []\n",
    "    for i in range(0,NumberOfUnits):\n",
    "        if votepattern[i]>0.5:\n",
    "          P0.append(np.random.uniform(0.5, 0.7))\n",
    "        else:\n",
    "          P0.append(np.random.uniform(0.3, 0.5))\n",
    "    P0 = np.array(P0)\n",
    "    Q0 = 1-P0\n",
    "    votesA = alpha*np.multiply(V,P0)\n",
    "    votesB = alpha*np.multiply(V,Q0)\n",
    "    return V, P0, Q0, votesA, votesB\n",
    "\n",
    "\n",
    "#Uniform allocation that party B (minority) uses\n",
    "def PopUniformAllocationB(NumberOfUnits, BudgetB, V, votesB):\n",
    "    matrix = V\n",
    "    B = matrix*BudgetB/(sum(matrix))\n",
    "    NewvotesB = np.zeros(NumberOfUnits)\n",
    "    for i in range(NumberOfUnits):\n",
    "        NewvotesB[i] = votesB[i] + B[i]\n",
    "    return NewvotesB, B\n",
    "    \n",
    "#Function for computing A's maximum wins using voter data and budget    \n",
    "def round1max(votesA, NewvotesB, initmap, budget, NumberOfDistricts):\n",
    "    cols = len(initmap)\n",
    "    D=[]\n",
    "    wins = 0\n",
    "    for i in range(0,NumberOfDistricts):\n",
    "        ind = np.where(initmap==i)\n",
    "        diff = np.sum(NewvotesB[ind])- np.sum(votesA[ind])\n",
    "        if diff>0:\n",
    "            D.append(diff)\n",
    "        else:\n",
    "            wins = wins+1\n",
    "    D.sort()\n",
    "    B = budget\n",
    "    while B>0:\n",
    "        if len(D)==0:\n",
    "          break\n",
    "        if B > D[0]:\n",
    "          B = B- D[0]\n",
    "          wins = wins+1\n",
    "          D.pop(0)\n",
    "        else:\n",
    "          B = B- D[0]\n",
    "    return wins\n",
    "\n",
    "#Sets up a dataframe that has all the processed information about maps in the list\n",
    "def InitialSetup(votesA, NewvotesB, votesB, dataframe0, initmap, budget, NumberOfDistricts):\n",
    "    dataframe = dataframe0\n",
    "    TotalVotes = sum(votesA)+ sum(votesB)\n",
    "    rows, cols = dataframe.shape\n",
    "    seats = []\n",
    "    s = 0\n",
    "    wastedvotes = []\n",
    "    for j in range(0,rows):\n",
    "      v1 = dataframe.iloc[j].to_numpy()\n",
    "      s=0\n",
    "      W = 0 \n",
    "      for i in range(0,cols):\n",
    "        ind = np.where(v1==i)\n",
    "        if np.sum(votesA[ind])> np.sum(votesB[ind]):\n",
    "            s=s+1\n",
    "            W = W + (3*np.sum(votesB[ind])-np.sum(votesA[ind]))/2\n",
    "        else:\n",
    "            W = W + (np.sum(votesB[ind])-3*np.sum(votesA[ind]))/2\n",
    "      seats.append(s)\n",
    "      wastedvotes.append(abs(W/TotalVotes))\n",
    "    wins = round1max(votesA, NewvotesB, initmap, budget, NumberOfDistricts)\n",
    "    dataframe['Max wins round 1']= wins #maximum wins in round 1 by party A (gets updated)\n",
    "    dataframe['Wins in round 2'] = seats #wins in round 2 achieved by target maps\n",
    "    \n",
    "    #total wins = round 1+2, this column gets updated as we run our algorithm\n",
    "    dataframe['Updated wins']= dataframe[['Max wins round 1', 'Wins in round 2']].sum(axis=1)\n",
    "    dataframe['Fair?'] = 'Not yet' #this column gets updated as we run our algorithm\n",
    "    dataframe['B-A Rd2 Egap'] = wastedvotes\n",
    "    dataframe['FooledEgap'] = 0 #this column gets updated as we run our algorithm\n",
    "    \n",
    "    #sorting the list by the total number of wins, gets updated as we run our algorithm\n",
    "    dataframe = dataframe.sort_values(by=['Updated wins'], ascending=False)\n",
    "    \n",
    "    return dataframe\n",
    "\n",
    "\n"
   ]
  },
  {
   "cell_type": "markdown",
   "metadata": {},
   "source": [
    "##  Algorithm step\n",
    "\n",
    "The Optimization step using gurobi.\n",
    "Takes a dataframe, performs a step and returns the dataframe after updating.\n",
    "\n",
    "The step is characterized by optimizing for the round 1 wins, given that the target map should look fair with the updated data. If the round 1 wins match with the maximum possible wins,  we're done, otherwise we mark that target map ('fair' or 'infeasible') and update the column 'updated wins' and sort the list, and move on to the next step by returning the df. "
   ]
  },
  {
   "cell_type": "code",
   "execution_count": 16,
   "metadata": {
    "id": "FvWClrC1zrCG"
   },
   "outputs": [],
   "source": [
    "def MyAlgoStep(votesA, NewvotesB, df, initmap, budget, NumberOfDistricts, Egap, alpha):\n",
    "    BigM = budget*1000\n",
    "    TotalVotes = sum(votesA)+ sum(NewvotesB) + budget\n",
    "    NoOfUnits = len(initmap)\n",
    "    W=0\n",
    "    v0 = df.iloc[0, 0:NoOfUnits]\n",
    "    #computing the efficiency gap (wasted votes) of the target map, after B invests.\n",
    "    v1 = v0.to_numpy()\n",
    "    for i in range(0, NumberOfDistricts):\n",
    "        ind = np.where(v1==i)\n",
    "        if np.sum(votesA[ind])> np.sum(NewvotesB[ind]):\n",
    "            W = W + (3*np.sum(NewvotesB[ind])-np.sum(votesA[ind]))/2\n",
    "        else:\n",
    "            W = W + (np.sum(NewvotesB[ind])-3*np.sum(votesA[ind]))/2\n",
    "    deficit = (3/2)*budget+ Egap*TotalVotes - W\n",
    "    #check the basic constraint of whether we have enough budget to bring the number of \n",
    "    # wasted votes within the allowed range. If not, mark `infeasible' and return immediately.\n",
    "    if deficit < 0:\n",
    "      df.iloc[0,NoOfUnits+3] = 'Infeasible'\n",
    "      df.iloc[0,NoOfUnits+5] = 50\n",
    "      df.iloc[0,NoOfUnits]= 0\n",
    "      Total2rounds= df.iloc[0,NoOfUnits]+ df.iloc[0,NoOfUnits+1]\n",
    "      df.iloc[0,NoOfUnits+2]= Total2rounds\n",
    "      df = df.sort_values(by=['Updated wins'], ascending=False)\n",
    "      stop = 'no'\n",
    "      #print('No need to check')\n",
    "      return df, stop, 0, 0, 0, 0\n",
    "    else:\n",
    "      #print('Need to check')\n",
    "    \n",
    "      # If not infeasible, we create the optimization model and find the number of rd 1 wins.\n",
    "\n",
    "      # Creation of a Concrete Model\n",
    "      model = gp.Model()\n",
    "      model.Params.LogToConsole = 0\n",
    "\n",
    "      # indexing for defining variables\n",
    "      units = range(len(initmap))  #preparing a set\n",
    "      districts = range(NumberOfDistricts)\n",
    "\n",
    "      # declare decision variables\n",
    "      X = model.addVars(districts,  vtype='B') #indicating round 1 wins\n",
    "      Y = model.addVars(districts,  vtype='B')  #indicating round 2 wins\n",
    "      T = model.addVars(districts,   vtype='C', lb= -GRB.INFINITY) #diff between wasted votes in i'th district\n",
    "      b = model.addVars(units,  vtype='C', lb= 0) #budget spent in each unit \n",
    "      v = model.addVars(units,  vtype='C', lb= 0) #Newvotes for A in each unit \n",
    "      \n",
    "    \n",
    "      #Objective function\n",
    "      totalseats = model.setObjective( \n",
    "          expr = sum(X[i] for i in districts), sense=gp.GRB.MAXIMIZE)\n",
    "\n",
    "      #building variables that we need in the constraints\n",
    "      targetmap = df.iloc[0].to_numpy()\n",
    "      targetmap = targetmap[0:NumberOfUnits]\n",
    "      setI = []\n",
    "      for i in range(0,NumberOfDistricts):\n",
    "          ind = np.where(initmap==i)\n",
    "          setI.append(ind[0])\n",
    "\n",
    "\n",
    "      setJ = []\n",
    "      for i in range(0,NumberOfDistricts):\n",
    "          ind = np.where(targetmap==i)\n",
    "          setJ.append(ind[0])\n",
    "\n",
    "      #Constraints : budget constraints\n",
    "      \n",
    "      for i in units:\n",
    "          model.addConstr(\n",
    "          votesA[i]+b[i] == v[i], name=\"budgetconstraints\")\n",
    "    \n",
    "      for i in units:\n",
    "          model.addConstr(\n",
    "          b[i] <=  votesA[i]*(1-alpha), name=\"budgetconstraints2\")\n",
    "          \n",
    "      model.addConstr(sum(b[i] for i in units) <= budget,  name=\"totalbudgetconstraint\")\n",
    "          \n",
    "      #Constraints : Round 1 constraints\n",
    "      \n",
    "      \n",
    "      for i in districts:\n",
    "          model.addConstr(\n",
    "          sum(v[k] for k in setI[i])- sum(NewvotesB[k] for k in setI[i])>=\n",
    "          1 - BigM*(1-X[i]), name=\"Rd1constraints1\")\n",
    "\n",
    "         \n",
    "      for i in districts:\n",
    "          model.addConstr(\n",
    "          sum(v[k] for k in setI[i])- sum(NewvotesB[k] for k in setI[i])<=\n",
    "            BigM*(X[i]), name=\"Rd1constraints2\")\n",
    "      \n",
    "      #Constraints : Round 2 constraints\n",
    "      \n",
    "      for i in districts:\n",
    "          model.addConstr(\n",
    "          sum(v[k] for k in setJ[i])- sum(NewvotesB[k] for k in setJ[i])>=\n",
    "          1 - BigM*(1-Y[i]), name=\"Rd2constraints1\")\n",
    "\n",
    "      \n",
    "      for i in districts:\n",
    "          model.addConstr( sum(v[k] for k in setJ[i])- \n",
    "                          sum(NewvotesB[k] for k in setJ[i])<= BigM*(Y[i]), name=\"Rd2constraints2\")\n",
    "\n",
    "      #Constraints : Round 2 wasted votes\n",
    "      \n",
    "      for i in districts:\n",
    "          model.addConstr( - T[i] + (3*sum(NewvotesB[k] for k in setJ[i])- \n",
    "          sum(v[k] for k in setJ[i]))/2 <= BigM*(1-Y[i]), name=\"Tconstraints1\")\n",
    " \n",
    "      \n",
    "      for i in districts:\n",
    "          model.addConstr(- T[i] + (3*sum(NewvotesB[k] for k in setJ[i])- \n",
    "          sum(v[k] for k in setJ[i]))/2 >= 0, name=\"Tconstraints2\")\n",
    "      \n",
    "      \n",
    "      for i in districts:\n",
    "          model.addConstr(T[i] - (sum(NewvotesB[k] for k in setJ[i])- \n",
    "          3*sum(v[k] for k in setJ[i]))/2 <= BigM*(Y[i]), name=\"Tconstraints3\")\n",
    "\n",
    "      \n",
    "      for i in districts:\n",
    "          model.addConstr( T[i] - (sum(NewvotesB[k] for k in setJ[i])- \n",
    "          3*sum(v[k] for k in setJ[i]))/2 >= 0, name=\"Tconstraints4\")\n",
    "      \n",
    "      \n",
    "      model.addConstr((sum(T[i] for i in districts))/TotalVotes <= Egap,name=\"Egapcon\") \n",
    "      #model.addConstr((sum(T[i] for i in districts))/TotalVotes >= -Egap) \n",
    "      model.update()\n",
    "\n",
    "      #Solution \n",
    "    \n",
    "      model.optimize()\n",
    "      '''\n",
    "      model.computeIIS()\n",
    "      model.write(\"model.ilp\")\n",
    "      if model.status == GRB.INFEASIBLE:\n",
    "        model.feasRelaxS(1, False, False , True)\n",
    "        model.optimize()\n",
    "      '''\n",
    "      \n",
    "      WastedVotes = []\n",
    "      if model.status == GRB.INFEASIBLE:\n",
    "          total = 0\n",
    "          df.iloc[0,NoOfUnits+3] = 'Infeasible'\n",
    "      else:\n",
    "          total = 0\n",
    "          df.iloc[0,NoOfUnits+3] = 'Yes'\n",
    "          for i in range(NumberOfDistricts):\n",
    "            total = total + X[i].getAttr(GRB.Attr.X)\n",
    "            WastedVotes.append(T[i].getAttr(GRB.Attr.X))\n",
    "      \n",
    "      if model.status == GRB.INFEASIBLE:\n",
    "          EgapTotal = 50\n",
    "          df.iloc[0,NoOfUnits+5] = EgapTotal\n",
    "      else:    \n",
    "          EgapTotal = sum(WastedVotes)/TotalVotes\n",
    "          df.iloc[0,NoOfUnits+5] = EgapTotal \n",
    "      \n",
    "    \n",
    "      df.iloc[0,NoOfUnits]= total\n",
    "      Total2rounds= df.iloc[0,NoOfUnits]+ df.iloc[0,NoOfUnits+1]\n",
    "      df.iloc[0,NoOfUnits+2]= Total2rounds\n",
    "      df = df.sort_values(by=['Updated wins'], ascending=False)\n",
    "      \n",
    "      if df.iloc[0,NoOfUnits+2] > Total2rounds:\n",
    "        stop = 'no'\n",
    "      else: \n",
    "        #stop = 'no'\n",
    "        stop = 'yes'\n",
    "\n",
    "      BudgetAlloc = []\n",
    "      NewvotesA = []\n",
    "        \n",
    "      if model.status == GRB.INFEASIBLE:\n",
    "          return df, stop, BudgetAlloc, NewvotesA, WastedVotes, EgapTotal\n",
    "      else:\n",
    "        for i in range(NoOfUnits):\n",
    "            bs = b[i].getAttr(GRB.Attr.X)\n",
    "            vs = v[i].getAttr(GRB.Attr.X)\n",
    "            BudgetAlloc.append(bs)\n",
    "            NewvotesA.append(vs)\n",
    "        return df, stop, BudgetAlloc, NewvotesA, WastedVotes, EgapTotal"
   ]
  },
  {
   "cell_type": "markdown",
   "metadata": {
    "id": "7V0Xmx7I0LxO"
   },
   "source": [
    "# Functions\n",
    "\n",
    "### Command: \n",
    "The first function in line that gets the initial setup done, and runs the algosteps until convergence, giving the allocation and completely updated dataframe. \n",
    "### Analysis:\n",
    "Uses the dataframe further and gets all the important values for the optimal solution.\n",
    "### Doeverything: \n",
    "The main function that takes the data from file, calls command and analysis and outputs everything that we need for the optimal solution, along with the updated dataframe."
   ]
  },
  {
   "cell_type": "code",
   "execution_count": 17,
   "metadata": {
    "id": "0v7yBJY00PmB"
   },
   "outputs": [],
   "source": [
    "def command(votesA, NewvotesB, votesB, df0, initmap, budgetA, Egap, alpha, maxiter):\n",
    "    NumberOfDistricts = int(max(initmap)+1)\n",
    "    NumberOfUnits = len(initmap)\n",
    "    df0 = df0.sample(frac=1)\n",
    "    df0 = df0[:maxiter]\n",
    "   \n",
    "    df = InitialSetup(votesA, NewvotesB, votesB, df0, initmap, budgetA, NumberOfDistricts)\n",
    "    \n",
    "    stop = 'no'\n",
    "    iter = 0\n",
    "    while stop == 'no':\n",
    "        df, stop, BudgetAlloc, NewvotesA, wastedvotes, EgapTotal = MyAlgoStep(votesA, NewvotesB, df, initmap, budgetA, NumberOfDistricts, Egap, alpha)\n",
    "        iter = iter+1\n",
    "        if iter > maxiter-1:\n",
    "          print('All are infeasible')\n",
    "          break\n",
    "\n",
    "    targetmap = df.iloc[0].to_numpy()\n",
    "    EgapRd2 = df.iloc[0,NumberOfUnits+4]\n",
    "\n",
    "    return  targetmap, df, BudgetAlloc, NewvotesA, EgapRd2, EgapTotal\n",
    "\n",
    "\n",
    "def analysis(sr1, df, BudgetAlloc, NewvotesA, NumberOfDistricts):\n",
    "    #print(df['Fair?'].value_counts()) \n",
    "    #Newvotes = BudgetAlloc+votesA\n",
    "    NewvotesA =  [round(x,3) for x in NewvotesA]\n",
    "    NewvotesA = np.array( NewvotesA )\n",
    "    BudgetAlloc =  [round(x,3) for x in BudgetAlloc]\n",
    "    #print(EgapRd2) #of the target map using updated vote shares\n",
    "    target = df.iloc[0].to_numpy()\n",
    "    targetmap = target[0:NumberOfUnits]\n",
    "    Max = NumberOfDistricts*2\n",
    "    MaxNOstrat = sr1*2\n",
    "    MaxStrat = df.iloc[0,NumberOfUnits+2]\n",
    "    rd1wins=  df.iloc[0,NumberOfUnits]\n",
    "    rd2wins=  df.iloc[0,NumberOfUnits+1]\n",
    "    targetmapnumber = df.index[0]\n",
    "    #print('Maximum possible wins in 2 rounds:', Max)\n",
    "    #print('Wins without strategic campaigning:', MaxNOstrat)\n",
    "    #print('Wins with strategic campaigning:', MaxStrat)\n",
    "    #print(df[:5])\n",
    "    return targetmap, BudgetAlloc, NewvotesA, Max, MaxNOstrat, MaxStrat, rd1wins, rd2wins, targetmapnumber\n",
    "\n",
    "\n",
    "def Doeverything(datafile, initmapnumber, V, votesA, votesB, Egap, budgetA, budgetB, alpha, maxiter):\n",
    "    df0 = pd.read_csv(datafile, index_col=False, header=None)\n",
    "    \n",
    "    \n",
    "    initmap = df0.iloc[initmapnumber]\n",
    "    \n",
    "    NumberOfDistricts = int(max(initmap)+1)\n",
    "    NumberOfUnits = int(len(initmap))\n",
    "    \n",
    "    sr1=0 #number of seats in round 1 without strategic campaign\n",
    "    for i in range(0,NumberOfDistricts):\n",
    "      ind = np.where(initmap==i)\n",
    "      if np.sum(votesA[ind])> np.sum(votesB[ind]):\n",
    "          sr1=sr1+1\n",
    "\n",
    "\n",
    "    NewvotesB, B = PopUniformAllocationB(NumberOfUnits, budgetB, V, votesB)\n",
    "\n",
    "    targetmap, dfupdated, BudgetAlloc, NewvotesA, EgapRd2, EgapTotal = command(votesA, NewvotesB, votesB, df0, initmap, budgetA, Egap, alpha, maxiter)\n",
    "    targetmap, BudgetAlloc, NewvotesA, Max, MaxNOstrat, MaxStrat, rd1wins, rd2wins, targetmapnumber = analysis(sr1, dfupdated, BudgetAlloc, NewvotesA, NumberOfDistricts)\n",
    "    Fairseries = dfupdated['Fair?'].value_counts()\n",
    "    \n",
    "    if len(Fairseries)<3:\n",
    "      InfNumber = 0\n",
    "      YesNumber = Fairseries[1]\n",
    "    else: \n",
    "      InfNumber = Fairseries[1]\n",
    "      YesNumber = Fairseries[2]\n",
    "    #print(BudgetAlloc)\n",
    "    return EgapTotal, initmap, dfupdated, targetmap, Max, MaxNOstrat, MaxStrat, rd1wins, rd2wins, EgapRd2, InfNumber, YesNumber, targetmapnumber, NewvotesA, NewvotesB\n",
    "#print(sum(votesA), sum(votesB))\n",
    "\n"
   ]
  },
  {
   "cell_type": "markdown",
   "metadata": {
    "id": "s25_c3hZoEVD"
   },
   "source": [
    "# Experiments\n",
    "Using all the functions created above, we can now run our experiments using the codes below.\n",
    "\n",
    "1. Input file\n",
    "\n",
    "2. Running for standard and more compact datafiles, printing the solutions and giving the final output in excel files."
   ]
  },
  {
   "cell_type": "markdown",
   "metadata": {},
   "source": [
    "### Input cell\n",
    "\n",
    "The notebook runs the votemandering algorithm k * size(budgetrange) * size(alphaset) times for each datafile.\n",
    "It generates k initial maps that are fair, and runs the algorithm for each value of budget and alpha, outputting the important results in excelsheet. "
   ]
  },
  {
   "cell_type": "code",
   "execution_count": 29,
   "metadata": {},
   "outputs": [
    {
     "name": "stdout",
     "output_type": "stream",
     "text": [
      "Voteshare A: 0.5019901864522514\n",
      "Voteshare B: 0.49800981354774865\n"
     ]
    }
   ],
   "source": [
    "k = 1 # Number of data points (initial maps) we want in our simulation, for given data in this cell.\n",
    "# These are generated randomly, larger the better.\n",
    "\n",
    "#currently, we measure compactness using the number of cut edges, that are bound by compactness \n",
    "# factor* the number of cut edges of a constant map. Lowwe factor means higher compactness\n",
    "datafile1 = 'ILMapsCmptsFactor_2.txt'  #for less compact maps \n",
    "datafile2 = 'ILMapsCmptsFactor_0.5.txt'#for more compact maps\n",
    "\n",
    "\n",
    "Egap = 0.15 #the bound we want to impose for fairenss\n",
    "NumberOfUnits = 3263 #total number of units\n",
    "NumberOfDistricts = 17 #Number of districts we want\n",
    "\n",
    "minbound, maxbound = 50, 50 #Population bounds for each unit, sampled uniformly\n",
    "distmin, distmax = 0.3, 0.7 #Vote share fraction bounds for each unit, for party A, sampled uniformly\n",
    "maxiter = 10 #Number of maps we want to have in our pool, used by the algorithm\n",
    "\n",
    "budgetB = 0 #Party B's budget, spent uniformly \n",
    "#Can also be made to match with A's. This edit can be made in the next cell.\n",
    "\n",
    "budgetrange = [300, 500] #A's budget range\n",
    "\n",
    "\n",
    "alphaset = [0.5, 0.6] #Alpha: the baseline voter turnout factor. \n",
    "\n",
    "V, P0, Q0 = RandomPopulation(NumberOfUnits, minbound, maxbound,distmin, distmax,  majority = True)\n",
    "\n",
    "votesAoriginal = np.multiply(V,P0)\n",
    "votesBoriginal = np.multiply(V,Q0)\n",
    "\n",
    "#print(votesAoriginal, votesBoriginal)\n",
    "VSA = sum(votesAoriginal)/(sum(votesAoriginal)+sum(votesBoriginal))\n",
    "print('Voteshare A:', VSA)\n",
    "print('Voteshare B:', 1-VSA)"
   ]
  },
  {
   "cell_type": "markdown",
   "metadata": {
    "id": "e8DW00UXz8I0"
   },
   "source": [
    "### Running the codes for the standard file (with lower compactness score)\n",
    "Creates boxplots for k samples, for the last value of alpha, showing budget vs the number of additional seats won through the budget. \n",
    "The number of additional seats for the ranges of alpha/budget/samples are also obtained through excel sheets.\n",
    "\n",
    "We can also run for a particular optimal solution for a particular value of budget and alpha and for a particular initial map (fix k=1, and budget and alpha as constants and run.)"
   ]
  },
  {
   "cell_type": "code",
   "execution_count": 27,
   "metadata": {
    "colab": {
     "base_uri": "https://localhost:8080/",
     "height": 1000
    },
    "id": "Rppp0nR5z-dq",
    "outputId": "36f81ea2-d4a6-4382-fc3d-85703b981369",
    "scrolled": true
   },
   "outputs": [
    {
     "name": "stdout",
     "output_type": "stream",
     "text": [
      "1  maps generated for alpha =  0.5\n",
      "1  maps generated for alpha =  0.6\n"
     ]
    }
   ],
   "source": [
    "datafile = datafile1\n",
    "df0 = pd.read_csv(datafile, index_col=False, header=None)\n",
    "\n",
    "\n",
    "d = {i:[] for i in alphaset}\n",
    "\n",
    "for alpha in alphaset:\n",
    "    boxlistSeats1 = []\n",
    "    boxlistInfeasibles1=[]\n",
    "    votesA = alpha*votesAoriginal\n",
    "    votesB = alpha*votesBoriginal\n",
    "\n",
    "    TotalVotes = sum(votesA)+ sum(votesB)\n",
    "    rows, cols = df0.shape\n",
    "    \n",
    "    Numrange = [] \n",
    "    \n",
    "    while len(Numrange)<k:\n",
    "      initmapnumber = random.randint(0,10000)\n",
    "      v1 = df0.iloc[initmapnumber].to_numpy()\n",
    "      W = 0 \n",
    "      \n",
    "      for i in range(0,cols):\n",
    "        ind = np.where(v1==i)\n",
    "        if np.sum(votesA[ind]) > np.sum(votesB[ind]):\n",
    "\n",
    "          W = W+ (3*np.sum(votesB[ind])-np.sum(votesA[ind]))/2\n",
    "        else:\n",
    "          W = W + (np.sum(votesB[ind])-3*np.sum(votesA[ind]))/2\n",
    "        \n",
    "\n",
    "\n",
    "      EgapCurrent=(W/TotalVotes)\n",
    "      if abs(EgapCurrent) < Egap:\n",
    "        Numrange.append(initmapnumber)\n",
    "        \n",
    "    #print(EgapCurrent, 'initial map egap')\n",
    "    i=0\n",
    "    print(k, ' maps generated for alpha = ', alpha)\n",
    "\n",
    "    \n",
    "    for budgetA in budgetrange:\n",
    "\n",
    "      #budgetB=budgetA\n",
    "      difflist=[]\n",
    "      InfList = []\n",
    "      Targetrange =[]\n",
    "      for num in Numrange:\n",
    "        initmapnumber = num \n",
    "        EgapTotal, initmap, dfupdated, targetmap, Max, MaxNOstrat, MaxStrat, rd1wins, rd2wins, EgapRd2, InfNumber, YesNumber, targetmapnumber, NewvotesA, NewvotesB = Doeverything(datafile, initmapnumber, V, votesA, votesB, Egap, budgetA, budgetB, alpha, maxiter)\n",
    "        difflist.append(MaxStrat-MaxNOstrat)\n",
    "        #difflist.append(MaxStrat)\n",
    "        InfList.append(InfNumber)\n",
    "        Targetrange.append(targetmapnumber)\n",
    "      i=i+1\n",
    "      boxlistSeats1.append(difflist)\n",
    "      boxlistInfeasibles1.append(InfList)\n",
    "    d[alpha] = boxlistSeats1\n",
    " "
   ]
  },
  {
   "cell_type": "code",
   "execution_count": 28,
   "metadata": {
    "colab": {
     "base_uri": "https://localhost:8080/",
     "height": 628
    },
    "id": "lgzxAcV_0BFZ",
    "outputId": "0d16eac0-2f98-4fd8-f947-c46fc14ce469"
   },
   "outputs": [
    {
     "data": {
      "image/png": "[encoded data removed]",
      "text/plain": [
       "<Figure size 432x288 with 1 Axes>"
      ]
     },
     "metadata": {
      "needs_background": "light"
     },
     "output_type": "display_data"
    },
    {
     "data": {
      "image/png": "[encoded data removed]",
      "text/plain": [
       "<Figure size 432x288 with 1 Axes>"
      ]
     },
     "metadata": {
      "needs_background": "light"
     },
     "output_type": "display_data"
    },
    {
     "name": "stdout",
     "output_type": "stream",
     "text": [
      "[[10], [11]]\n",
      "[[8], [8]]\n"
     ]
    }
   ],
   "source": [
    "fig1 = plt.figure()\n",
    "ax1 = fig1.add_subplot(111)\n",
    "\n",
    "ax1.set_title('Budget vs Difference in Number of seats with loose compactness')\n",
    "\n",
    "ax1.set_xlabel('Budget', \n",
    "               fontweight ='bold')\n",
    "\n",
    "ax1.set_ylabel('Delta seats', \n",
    "               fontweight ='bold')\n",
    "\n",
    "bp = ax1.boxplot(boxlistSeats1)\n",
    "fig1.savefig('myboxplot1.png')\n",
    "plt.show()\n",
    "#print(boxlistSeats1)\n",
    "\n",
    "fig3 = plt.figure()\n",
    "ax3 = fig3.add_subplot(111)\n",
    "\n",
    "ax3.set_title('Budget vs Ease of fooling with loose compactness')\n",
    "\n",
    "ax3.set_xlabel('Budget', \n",
    "               fontweight ='bold')\n",
    "\n",
    "ax3.set_ylabel('Infeseasible solutions', \n",
    "               fontweight ='bold')\n",
    "bp = ax3.boxplot(boxlistInfeasibles1)\n",
    "fig3.savefig('myboxplot3.png')\n",
    "plt.show()\n",
    "#print(boxlistInfeasibles1)\n",
    "\n",
    "for alpha in alphaset:\n",
    "    print(d[alpha])"
   ]
  },
  {
   "cell_type": "code",
   "execution_count": 21,
   "metadata": {},
   "outputs": [],
   "source": [
    "dfoo = pd.DataFrame(d[alphaset[0]])\n",
    "dfoo.to_excel(\"output.xlsx\",\n",
    "         sheet_name='Alpha = %s' % alphaset[0]) \n",
    "for alpha in alphaset:\n",
    "  if alpha != alphaset[0]:\n",
    "    dfoo = pd.DataFrame(d[alpha])\n",
    "    with pd.ExcelWriter(\"output.xlsx\", engine=\"openpyxl\", mode=\"a\") as writer: \n",
    "        dfoo.to_excel(writer, sheet_name='Alpha = %s' % alpha)\n",
    "VotesOriginal = [votesAoriginal, votesBoriginal]\n",
    "maps = [Numrange, Targetrange]\n",
    "dfoo =  pd.DataFrame(VotesOriginal)\n",
    "with pd.ExcelWriter(\"output.xlsx\", engine=\"openpyxl\", mode=\"a\") as writer: \n",
    "        dfoo.to_excel(writer, sheet_name='VoteShares')\n",
    "dfoo =  pd.DataFrame(maps)\n",
    "with pd.ExcelWriter(\"output.xlsx\", engine=\"openpyxl\", mode=\"a\") as writer: \n",
    "        dfoo.to_excel(writer, sheet_name='MapsInfo_ %s' % alpha)\n"
   ]
  },
  {
   "cell_type": "markdown",
   "metadata": {
    "id": "prkEb9lzn4DJ"
   },
   "source": [
    "### For more compact datafile\n",
    "\n",
    "Everything else is similar to the standard datafile"
   ]
  },
  {
   "cell_type": "code",
   "execution_count": 22,
   "metadata": {
    "colab": {
     "base_uri": "https://localhost:8080/",
     "height": 1000
    },
    "id": "YB3_OA7tnhGy",
    "outputId": "008bd80e-2c64-4328-af8a-441b98f3e11c"
   },
   "outputs": [
    {
     "name": "stdout",
     "output_type": "stream",
     "text": [
      "1  maps generated for alpha =  0.5\n",
      "1  maps generated for alpha =  0.6\n"
     ]
    }
   ],
   "source": [
    "datafile = datafile2\n",
    "\n",
    "df0 = pd.read_csv(datafile, index_col=False, header=None)\n",
    "\n",
    "d2 = {i:[] for i in alphaset}\n",
    "\n",
    "for alpha in alphaset:\n",
    "\n",
    "    boxlistSeats2 = []\n",
    "    boxlistInfeasibles2=[]\n",
    "    votesA = alpha*votesAoriginal\n",
    "    votesB = alpha*votesBoriginal\n",
    "\n",
    "    TotalVotes = sum(votesA)+ sum(votesB)\n",
    "    rows, cols = df0.shape\n",
    "\n",
    "    Numrange2 = []\n",
    "    while len(Numrange2)<k:\n",
    "      initmapnumber = random.randint(0,10000)\n",
    "      v1 = df0.iloc[initmapnumber].to_numpy()\n",
    "      W = 0 \n",
    "      for i in range(0,cols):\n",
    "        ind = np.where(v1==i)\n",
    "        if np.sum(votesA[ind])> np.sum(votesB[ind]):\n",
    "\n",
    "          W = W+ (3*np.sum(votesB[ind])-np.sum(votesA[ind]))/2\n",
    "        else:\n",
    "          W = W + (np.sum(votesB[ind])-3*np.sum(votesA[ind]))/2\n",
    "\n",
    "      EgapCurrent=(W/TotalVotes)\n",
    "      if abs(EgapCurrent) < Egap:\n",
    "        Numrange2.append(initmapnumber)\n",
    "\n",
    "    i=0\n",
    "    print(k, ' maps generated for alpha = ', alpha)\n",
    "\n",
    "    \n",
    "    for budgetA in budgetrange:\n",
    "      #budgetB=budgetA\n",
    "      difflist=[]\n",
    "      InfList = []\n",
    "      Targetrange2 = []\n",
    "      for num in Numrange2: \n",
    "        initmapnumber = num\n",
    "        EgapTotal, initmap, dfupdated, targetmap, Max, MaxNOstrat, MaxStrat, rd1wins, rd2wins, EgapRd2, InfNumber, YesNumber, targetmapnumber, NewvotesA, NewvotesB = Doeverything(datafile, initmapnumber, V, votesA, votesB, Egap, budgetA, budgetB, alpha, maxiter)\n",
    "        difflist.append(MaxStrat-MaxNOstrat)\n",
    "        #difflist.append(MaxStrat)\n",
    "        InfList.append(InfNumber)\n",
    "        Targetrange2.append(targetmapnumber)\n",
    "      i=i+1\n",
    "      boxlistSeats2.append(difflist)\n",
    "      boxlistInfeasibles2.append(InfList)\n",
    "    d2[alpha] = boxlistSeats2"
   ]
  },
  {
   "cell_type": "code",
   "execution_count": 23,
   "metadata": {
    "colab": {
     "base_uri": "https://localhost:8080/",
     "height": 628
    },
    "id": "VBrGxTZNnqQ1",
    "outputId": "193b7602-e991-43f1-e3d5-96e43107ffc2"
   },
   "outputs": [
    {
     "data": {
      "image/png": "[encoded data removed]",
      "text/plain": [
       "<Figure size 432x288 with 1 Axes>"
      ]
     },
     "metadata": {
      "needs_background": "light"
     },
     "output_type": "display_data"
    },
    {
     "data": {
      "image/png": "[encoded data removed]",
      "text/plain": [
       "<Figure size 432x288 with 1 Axes>"
      ]
     },
     "metadata": {
      "needs_background": "light"
     },
     "output_type": "display_data"
    },
    {
     "name": "stdout",
     "output_type": "stream",
     "text": [
      "[[6], [8]]\n",
      "[[5], [7]]\n"
     ]
    }
   ],
   "source": [
    "fig2 = plt.figure()\n",
    "ax2 = fig2.add_subplot(111)\n",
    "\n",
    "ax2.set_title('Budget vs Difference in Number of seats with strong compactness')\n",
    "\n",
    "ax2.set_xlabel('Budget', \n",
    "               fontweight ='bold')\n",
    "\n",
    "ax2.set_ylabel('Delta seats', \n",
    "               fontweight ='bold')\n",
    "\n",
    "bp = ax2.boxplot(boxlistSeats2)\n",
    "fig2.savefig('myboxplot2.png')\n",
    "plt.show()\n",
    "#print(boxlistSeats2)\n",
    "\n",
    "fig4 = plt.figure()\n",
    "ax4 = fig4.add_subplot(111)\n",
    "\n",
    "ax4.set_title('Budget vs Ease of fooling with strong compactness')\n",
    "\n",
    "ax4.set_xlabel('Budget', \n",
    "               fontweight ='bold')\n",
    "\n",
    "ax4.set_ylabel('Infeseasible solutions', \n",
    "               fontweight ='bold')\n",
    "bp = ax4.boxplot(boxlistInfeasibles2)\n",
    "fig4.savefig('myboxplot4.png')\n",
    "plt.show()\n",
    "#print(boxlistInfeasibles2)\n",
    "\n",
    "for alpha in alphaset:\n",
    "    print(d2[alpha])"
   ]
  },
  {
   "cell_type": "code",
   "execution_count": 24,
   "metadata": {},
   "outputs": [],
   "source": [
    "dfoo = pd.DataFrame(d2[alphaset[0]])\n",
    "dfoo.to_excel(\"outputcmpt.xlsx\",\n",
    "             sheet_name='Sheet_name_%s' % alphaset[0]) \n",
    "for alpha in alphaset:\n",
    "    if alpha != alphaset[0]:\n",
    "        dfoo = pd.DataFrame(d2[alpha])\n",
    "        with pd.ExcelWriter(\"outputcmpt.xlsx\", engine=\"openpyxl\", mode=\"a\") as writer: \n",
    "            dfoo.to_excel(writer, sheet_name='Sheet_name_%s' % alpha)\n",
    "VotesOriginal = [votesAoriginal, votesBoriginal, V]\n",
    "dfoo = pd.DataFrame(VotesOriginal)\n",
    "with pd.ExcelWriter(\"outputcmpt.xlsx\", engine=\"openpyxl\", mode=\"a\") as writer: \n",
    "        dfoo.to_excel(writer, sheet_name='VoteShares')\n",
    "maps = [Numrange2, Targetrange2]\n",
    "dfoo =  pd.DataFrame(maps)\n",
    "with pd.ExcelWriter(\"outputcmpt.xlsx\", engine=\"openpyxl\", mode=\"a\") as writer: \n",
    "        dfoo.to_excel(writer, sheet_name='MapsInfo_ %s' % alpha)\n"
   ]
  },
  {
   "cell_type": "code",
   "execution_count": 25,
   "metadata": {},
   "outputs": [
    {
     "name": "stdout",
     "output_type": "stream",
     "text": [
      "Total_time =  286.56358075141907  seconds\n"
     ]
    }
   ],
   "source": [
    "end_time = time.time()\n",
    "print(\"Total_time = \", end_time-start_time, \" seconds\")"
   ]
  },
  {
   "cell_type": "code",
   "execution_count": 26,
   "metadata": {},
   "outputs": [
    {
     "data": {
      "text/plain": [
       "'\\nVotesOriginal = [votesAoriginal, votesBoriginal, V]\\ndfoo = pd.DataFrame(VotesOriginal)\\ndfoo.to_excel(\"outputmyexmaple.xlsx\",\\n             sheet_name=\\'VoteShares\\' )\\n'"
      ]
     },
     "execution_count": 26,
     "metadata": {},
     "output_type": "execute_result"
    }
   ],
   "source": [
    "'''\n",
    "VotesOriginal = [votesAoriginal, votesBoriginal, V]\n",
    "dfoo = pd.DataFrame(VotesOriginal)\n",
    "dfoo.to_excel(\"outputmyexmaple.xlsx\",\n",
    "             sheet_name='VoteShares' )\n",
    "'''"
   ]
  }
 ],
 "metadata": {
  "colab": {
   "collapsed_sections": [
    "Uh2_sRoyzl5o"
   ],
   "name": "SanyuktaRD.ipynb",
   "provenance": []
  },
  "gpuClass": "standard",
  "kernelspec": {
   "display_name": "Python 3",
   "language": "python",
   "name": "python3"
  },
  "language_info": {
   "codemirror_mode": {
    "name": "ipython",
    "version": 3
   },
   "file_extension": ".py",
   "mimetype": "text/x-python",
   "name": "python",
   "nbconvert_exporter": "python",
   "pygments_lexer": "ipython3",
   "version": "3.8.5"
  }
 },
 "nbformat": 4,
 "nbformat_minor": 1
}
